{
 "cells": [
  {
   "cell_type": "code",
   "execution_count": 1,
   "metadata": {},
   "outputs": [],
   "source": [
    "from inv_set.cartpole import basic\n",
    "from inv_set.cartpole import trap\n",
    "from envs.cartpole import Cartpole\n",
    "import numpy as np\n",
    "import matplotlib.pyplot as plt\n",
    "from filters.disc import disc\n",
    "from controllers.QP import QP_CBF_controller\n",
    "import time"
   ]
  },
  {
   "cell_type": "code",
   "execution_count": 2,
   "metadata": {},
   "outputs": [
    {
     "name": "stderr",
     "output_type": "stream",
     "text": [
      "D:\\Users\\willl\\anaconda3\\lib\\site-packages\\gym\\spaces\\box.py:73: UserWarning: \u001b[33mWARN: Box bound precision lowered by casting to float32\u001b[0m\n",
      "  logger.warn(\n"
     ]
    }
   ],
   "source": [
    "#inv_set = basic(3, 0.5, 5, 10, 10)\n",
    "inv_set = trap(0.5, -5)\n",
    "env = Cartpole(inv_set, 1)\n",
    "def verify(env, num_traj, num_steps):\n",
    "    initial_states = env.sample_states(30000)\n",
    "    verified_states = []\n",
    "    for initial_state in initial_states:\n",
    "        for traj in range(num_traj):\n",
    "            steps = 0\n",
    "            state = env.reset(initial_state)\n",
    "            term = False\n",
    "            verified = False\n",
    "            while not term and steps <= num_steps:\n",
    "                u = env.action_space.sample()\n",
    "                state, reward, term, info = env.step(u)\n",
    "                if env.inv_set.forward(state) < 0:\n",
    "                    break\n",
    "                if term or steps == 50:\n",
    "                    verified_states.append(initial_state)\n",
    "                    verified = True\n",
    "                    break\n",
    "            if verified:\n",
    "                break\n",
    "    return np.array(initial_states), np.array(verified_states)\n",
    "\n",
    "\n"
   ]
  },
  {
   "cell_type": "code",
   "execution_count": 7,
   "metadata": {},
   "outputs": [
    {
     "name": "stdout",
     "output_type": "stream",
     "text": [
      "(1585, 4) (1585, 4)\n"
     ]
    }
   ],
   "source": [
    "init_states, ver_states = verify(env, 5000, 200)\n",
    "print(init_states.shape, ver_states.shape)"
   ]
  },
  {
   "cell_type": "code",
   "execution_count": 4,
   "metadata": {},
   "outputs": [
    {
     "data": {
      "text/plain": [
       "Text(0, 0.5, '$\\\\dot{x}$')"
      ]
     },
     "execution_count": 4,
     "metadata": {},
     "output_type": "execute_result"
    },
    {
     "data": {
      "image/png": "[encoded data removed]",
      "text/plain": [
       "<Figure size 288x288 with 1 Axes>"
      ]
     },
     "metadata": {
      "needs_background": "light"
     },
     "output_type": "display_data"
    }
   ],
   "source": [
    "n = 50\n",
    "x = np.linspace(-0.5, 0.5, n)\n",
    "y = np.linspace(0, 5, n)\n",
    "fig = plt.figure()\n",
    "ax = fig.add_subplot(111)\n",
    "plt.plot(x, -5*(x-0.5),'--', c='b')\n",
    "plt.plot(x, -5*(x+0.5),'--', c='b')\n",
    "plt.plot([-0.5]*n, y,'--', c='b')\n",
    "plt.plot([0.5]*n, y-5, '--', c='b')\n",
    "plt.fill_between(x, -5*(x-0.5), -5*(x+0.5))\n",
    "plt.grid()\n",
    "plt.xlim(-0.6, 0.6)\n",
    "plt.ylim(-6, 6)\n",
    "fig.set_size_inches(4,4)\n",
    "plt.xlabel('x')\n",
    "plt.ylabel('$\\dot{x}$')"
   ]
  },
  {
   "cell_type": "code",
   "execution_count": 8,
   "metadata": {},
   "outputs": [
    {
     "data": {
      "text/plain": [
       "<matplotlib.legend.Legend at 0x2248595cd00>"
      ]
     },
     "execution_count": 8,
     "metadata": {},
     "output_type": "execute_result"
    },
    {
     "data": {
      "image/png": "[encoded data removed]",
      "text/plain": [
       "<Figure size 432x288 with 1 Axes>"
      ]
     },
     "metadata": {
      "needs_background": "light"
     },
     "output_type": "display_data"
    }
   ],
   "source": [
    "plt.scatter(init_states[:, 0], init_states[:, 1], s=0.5, label='init')\n",
    "plt.scatter(ver_states[:, 0], ver_states[:, 1], s=0.5, label='ver')\n",
    "plt.legend()"
   ]
  },
  {
   "cell_type": "code",
   "execution_count": null,
   "metadata": {},
   "outputs": [],
   "source": [
    "plt.scatter(init_states[:, 2], init_states[:, 3], label='init')\n",
    "plt.scatter(ver_states[:, 2], ver_states[:, 3], label='ver')\n",
    "plt.legend()"
   ]
  },
  {
   "cell_type": "code",
   "execution_count": null,
   "metadata": {},
   "outputs": [],
   "source": [
    "env = Cartpole(inv_set)\n",
    "num_states = 1000\n",
    "num_inputs = 100\n",
    "states, inputs, input_labels = env.sample_data(num_states, num_inputs)"
   ]
  },
  {
   "cell_type": "code",
   "execution_count": null,
   "metadata": {},
   "outputs": [],
   "source": [
    "for i in range(num_states):\n",
    "    state = states[i]\n",
    "    input = inputs[i]\n",
    "    input_label = input_labels[i]\n",
    "    if -1 in input_label:\n",
    "        pos_idx = input_label > 0\n",
    "        neg_idx = input_label < 0\n",
    "        a, b = env.label_state(input, input_label)\n",
    "        print(a,b)\n",
    "        plt.scatter(input[pos_idx], [1]*len(input[pos_idx]))\n",
    "        plt.scatter(input[neg_idx], [-1]*len(input[neg_idx]))\n",
    "        plt.scatter(b/a, 0)\n",
    "        break"
   ]
  },
  {
   "cell_type": "code",
   "execution_count": null,
   "metadata": {},
   "outputs": [],
   "source": [
    "import time\n",
    "disc_filter = disc(env, 1000)\n",
    "def target(state, t):\n",
    "    return 0.5\n",
    "disc_controller = QP_CBF_controller(target, disc_filter, 1)\n",
    "env = Cartpole(inv_set)\n",
    "state = env.reset()\n",
    "done = False\n",
    "total_reward = 0\n",
    "step = 0\n",
    "while not done and step <= 500:\n",
    "    action = disc_controller.forward(state, step)\n",
    "    action = np.float32(action)\n",
    "    if action > 1:\n",
    "        action = np.array([1], dtype=np.float32)\n",
    "    elif action < -1:\n",
    "        action = np.array([-1], dtype=np.float32)\n",
    "    state, reward, done, info = env.step(action)\n",
    "    total_reward += reward\n",
    "    env.render()\n",
    "    time.sleep(0.001)\n",
    "    step += 1\n",
    "env.reset()\n",
    "env.close()"
   ]
  },
  {
   "cell_type": "code",
   "execution_count": null,
   "metadata": {},
   "outputs": [],
   "source": []
  }
 ],
 "metadata": {
  "kernelspec": {
   "display_name": "Python 3 (ipykernel)",
   "language": "python",
   "name": "python3"
  },
  "language_info": {
   "codemirror_mode": {
    "name": "ipython",
    "version": 3
   },
   "file_extension": ".py",
   "mimetype": "text/x-python",
   "name": "python",
   "nbconvert_exporter": "python",
   "pygments_lexer": "ipython3",
   "version": "3.9.7"
  },
  "vscode": {
   "interpreter": {
    "hash": "e9148abd3f1a9a3e10d964828ad7f9221d6c6ab744371a31ba9b8c4d820d5775"
   }
  }
 },
 "nbformat": 4,
 "nbformat_minor": 2
}
