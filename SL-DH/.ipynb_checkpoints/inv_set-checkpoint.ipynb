{
 "cells": [
  {
   "cell_type": "code",
   "execution_count": 1,
   "metadata": {},
   "outputs": [],
   "source": [
    "from inv_set.cartpole import basic\n",
    "from envs.cartpole import Cartpole\n",
    "import numpy as np\n",
    "import matplotlib.pyplot as plt"
   ]
  },
  {
   "cell_type": "code",
   "execution_count": 11,
   "metadata": {},
   "outputs": [],
   "source": [
    "inv_set = basic(-1, 1, -1, 1, -.218, .218, -1, 1)\n",
    "env = Cartpole(inv_set)\n",
    "def verify(env, num_traj):\n",
    "    initial_states = env.sample_states(10000)\n",
    "    num_states = len(initial_states)\n",
    "    verified = np.full(num_states, False)\n",
    "    for t in range(num_traj):\n",
    "        for i in range(num_states):\n",
    "            initial_state = initial_states[i]\n",
    "            state = env.reset(initial_state)\n",
    "            term = False\n",
    "            while not term:\n",
    "                u = env.action_space.sample()\n",
    "                state, rew, term, info = env.step(u)\n",
    "                if not np.all(env.inv_set.forward(state)):\n",
    "                    term = True\n",
    "                elif term and np.all(env.inv_set.forward(state)):\n",
    "                    verified[i] = True\n",
    "    return np.all(verified), initial_states, initial_states[verified]\n",
    "\n",
    "\n"
   ]
  },
  {
   "cell_type": "code",
   "execution_count": 12,
   "metadata": {},
   "outputs": [],
   "source": [
    "is_inv, init_states, ver_states = verify(env, 1)"
   ]
  },
  {
   "cell_type": "code",
   "execution_count": null,
   "metadata": {},
   "outputs": [],
   "source": []
  }
 ],
 "metadata": {
  "kernelspec": {
   "display_name": "Python 3 (ipykernel)",
   "language": "python",
   "name": "python3"
  },
  "language_info": {
   "codemirror_mode": {
    "name": "ipython",
    "version": 3
   },
   "file_extension": ".py",
   "mimetype": "text/x-python",
   "name": "python",
   "nbconvert_exporter": "python",
   "pygments_lexer": "ipython3",
   "version": "3.9.7"
  }
 },
 "nbformat": 4,
 "nbformat_minor": 2
}
